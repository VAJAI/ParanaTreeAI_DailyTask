{
 "cells": [
  {
   "cell_type": "code",
   "execution_count": 1,
   "metadata": {},
   "outputs": [],
   "source": [
    "from openai import OpenAI\n",
    "import os\n",
    "from dotenv import load_dotenv"
   ]
  },
  {
   "cell_type": "code",
   "execution_count": 2,
   "metadata": {},
   "outputs": [
    {
     "data": {
      "text/plain": [
       "True"
      ]
     },
     "execution_count": 2,
     "metadata": {},
     "output_type": "execute_result"
    }
   ],
   "source": [
    "load_dotenv()"
   ]
  },
  {
   "cell_type": "code",
   "execution_count": 3,
   "metadata": {},
   "outputs": [],
   "source": [
    "client = OpenAI()"
   ]
  },
  {
   "cell_type": "code",
   "execution_count": 4,
   "metadata": {},
   "outputs": [],
   "source": [
    "messages = [\n",
    "    {\"role\":\"system\",\"content\":\"your the the AI Assitant\"}\n",
    "]"
   ]
  },
  {
   "cell_type": "code",
   "execution_count": 5,
   "metadata": {},
   "outputs": [
    {
     "name": "stdout",
     "output_type": "stream",
     "text": [
      "user_msg:  hello\n",
      "Assitant:  Hello! How can I assist you today? 😊\n",
      "Oops you dont continue the communication\n"
     ]
    }
   ],
   "source": [
    "while True:\n",
    "    user_msg= input(\"Enter your question\")\n",
    "    if user_msg !=\"\":\n",
    "        messages.append(\n",
    "            {\"role\":\"system\",\"content\":user_msg})\n",
    "        \n",
    "        response =client.chat.completions.create(\n",
    "            model=\"chatgpt-4o-latest\",\n",
    "            messages=messages,\n",
    "            temperature=0\n",
    "            )\n",
    "        \n",
    "        bot_res =response.choices[0].message.content\n",
    "        print(\"user_msg: \",user_msg)\n",
    "        print(\"Assitant: \",bot_res)\n",
    "        \n",
    "        messages.append({\n",
    "            \"role\":\"Assitant\",\"content\":bot_res\n",
    "        })\n",
    "    \n",
    "    else:\n",
    "        print(\"Oops you dont continue the communication\")\n",
    "        break "
   ]
  }
 ],
 "metadata": {
  "kernelspec": {
   "display_name": ".venv",
   "language": "python",
   "name": "python3"
  },
  "language_info": {
   "codemirror_mode": {
    "name": "ipython",
    "version": 3
   },
   "file_extension": ".py",
   "mimetype": "text/x-python",
   "name": "python",
   "nbconvert_exporter": "python",
   "pygments_lexer": "ipython3",
   "version": "3.12.3"
  }
 },
 "nbformat": 4,
 "nbformat_minor": 2
}
