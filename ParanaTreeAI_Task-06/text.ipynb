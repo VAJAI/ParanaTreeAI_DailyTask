{
 "cells": [
  {
   "cell_type": "code",
   "execution_count": 30,
   "metadata": {},
   "outputs": [],
   "source": [
    "import openai\n",
    "import langchain\n",
    "import pinecone\n",
    "from langchain.document_loaders import PyPDFDirectoryLoader\n",
    "from langchain.text_splitter import RecursiveCharacterTextSplitter\n",
    "from langchain.embeddings.openai import OpenAIEmbeddings\n",
    "from langchain.vectorstores import Pinecone\n",
    "from langchain_openai import OpenAI\n",
    "from langchain_pinecone import PineconeVectorStore"
   ]
  },
  {
   "cell_type": "code",
   "execution_count": 31,
   "metadata": {},
   "outputs": [],
   "source": [
    "from dotenv import load_dotenv\n",
    "load_dotenv()\n",
    "import os\n",
    "pinecone_api_key = os.getenv(\"PINECONE_API_KEY\")\n",
    "openai_api_key=os.getenv(\"OPENAI_API_KEY\")"
   ]
  },
  {
   "cell_type": "code",
   "execution_count": 32,
   "metadata": {},
   "outputs": [],
   "source": [
    "## lets read the document\n",
    "def read_doc(directory):\n",
    "    file_loders=PyPDFDirectoryLoader(directory)\n",
    "    documents=file_loders.load()\n",
    "    return documents"
   ]
  },
  {
   "cell_type": "code",
   "execution_count": 33,
   "metadata": {},
   "outputs": [
    {
     "data": {
      "text/plain": [
       "[Document(metadata={'source': 'documents\\\\AJAI.pdf', 'page': 0}, page_content='AJAI V\\n9150160723 | ajaipetro@gmail.com | linkedin.com/in/v-ajai-838345194 | https://github.com/VAJAI\\nTECHNICAL SKILLS\\nProgramming Languages : Python, C++, C, Basic JAVA\\nFrameworks - Libraries: Django, React.js, Node.js\\nFront-End Development : HTML, CSS, Bootstrap, JavaScript, jQuery\\nBack-End Development : MySQL, Microsoft SQL Server\\nDevelopment Tools:Git, Visual Studio Code, Code Blocks\\nPROJECTS\\nEcommerce Website - Pic Snacks DEC 2023 – APR 2024\\nRole: Full Stack Developer HTML, CSS, JavaScript\\n• Engineered a fully responsive e-commerce platform for snack products, achieving a 20% boost in mobile engagement and a 15%\\nincrease in overall site trafﬁc. .\\n• Designed a user-friendly interface that enhanced customer engagement by25% and decreased bounce rates by30%\\n• Optimized site navigation for multi-device compatibility, increasing user retention by20%.\\nPortfolio Website APR 2024 – AUG 2024\\nRole: Web Designer and Developer HTML, CSS, JavaScript\\n• Built a professional portfolio website to showcase technical skills and projects, leading to positive feedback from recruiters and a\\n50% increase in LinkedIn proﬁle views.\\n• Reduced page load times by30% through performance optimization techniques.\\n• Designed a responsive layout compatible with 10+ browsers, resulting in a25% increasein mobile engagement.\\nEXPERIENCE\\nSoftware Developer - Training Program AUG 2024 – Present\\nNAGHAVI Financial Services Pvt Ltd Bangaluru\\n• Currently enrolled in a 6-month software development and ﬁntech training program, enhancing skills with key tools and increasing\\nefﬁciency by 40%.\\n• Contributed to developing and debugging internal tools, improving operational efﬁciency by 15%.\\n• Developing full-stack solutions utilizing Python and SQL, leading to a35% boostin coding efﬁciency and a20% reductionin\\ndatabase query times.\\nEDUCATION\\nRajiv Gandhi College of Engineering Chennai\\nB.Tech in Petroleum Engineering Aug 2019 – May 2023\\nVaani Matric Higher Secondary School Vaniyambadi\\nHSE- Bio Maths Apr 2018 – May 2019\\nCERTIFICATIONS\\n• Python Full Stack Developer Certiﬁcation - Pumo Technovation, Chennai\\n• TCS iON NQT IT Certiﬁcation - Achieved a score of 62.87%')]"
      ]
     },
     "execution_count": 33,
     "metadata": {},
     "output_type": "execute_result"
    }
   ],
   "source": [
    "doc=read_doc('documents/')\n",
    "doc"
   ]
  },
  {
   "cell_type": "code",
   "execution_count": 34,
   "metadata": {},
   "outputs": [],
   "source": [
    "## divide the doc the chunks\n",
    "def chunk_data(docs,chunk_size=800,chunk_overlap=50):\n",
    "    text_spiliters=RecursiveCharacterTextSplitter(chunk_size=chunk_size,chunk_overlap=chunk_overlap)\n",
    "    doc=text_spiliters.split_documents(docs)\n",
    "    return doc"
   ]
  },
  {
   "cell_type": "code",
   "execution_count": 35,
   "metadata": {},
   "outputs": [
    {
     "data": {
      "text/plain": [
       "[Document(metadata={'source': 'documents\\\\AJAI.pdf', 'page': 0}, page_content='AJAI V\\n9150160723 | ajaipetro@gmail.com | linkedin.com/in/v-ajai-838345194 | https://github.com/VAJAI\\nTECHNICAL SKILLS\\nProgramming Languages : Python, C++, C, Basic JAVA\\nFrameworks - Libraries: Django, React.js, Node.js\\nFront-End Development : HTML, CSS, Bootstrap, JavaScript, jQuery\\nBack-End Development : MySQL, Microsoft SQL Server\\nDevelopment Tools:Git, Visual Studio Code, Code Blocks\\nPROJECTS\\nEcommerce Website - Pic Snacks DEC 2023 – APR 2024\\nRole: Full Stack Developer HTML, CSS, JavaScript\\n• Engineered a fully responsive e-commerce platform for snack products, achieving a 20% boost in mobile engagement and a 15%\\nincrease in overall site trafﬁc. .\\n• Designed a user-friendly interface that enhanced customer engagement by25% and decreased bounce rates by30%'),\n",
       " Document(metadata={'source': 'documents\\\\AJAI.pdf', 'page': 0}, page_content='• Optimized site navigation for multi-device compatibility, increasing user retention by20%.\\nPortfolio Website APR 2024 – AUG 2024\\nRole: Web Designer and Developer HTML, CSS, JavaScript\\n• Built a professional portfolio website to showcase technical skills and projects, leading to positive feedback from recruiters and a\\n50% increase in LinkedIn proﬁle views.\\n• Reduced page load times by30% through performance optimization techniques.\\n• Designed a responsive layout compatible with 10+ browsers, resulting in a25% increasein mobile engagement.\\nEXPERIENCE\\nSoftware Developer - Training Program AUG 2024 – Present\\nNAGHAVI Financial Services Pvt Ltd Bangaluru\\n• Currently enrolled in a 6-month software development and ﬁntech training program, enhancing skills with key tools and increasing'),\n",
       " Document(metadata={'source': 'documents\\\\AJAI.pdf', 'page': 0}, page_content='efﬁciency by 40%.\\n• Contributed to developing and debugging internal tools, improving operational efﬁciency by 15%.\\n• Developing full-stack solutions utilizing Python and SQL, leading to a35% boostin coding efﬁciency and a20% reductionin\\ndatabase query times.\\nEDUCATION\\nRajiv Gandhi College of Engineering Chennai\\nB.Tech in Petroleum Engineering Aug 2019 – May 2023\\nVaani Matric Higher Secondary School Vaniyambadi\\nHSE- Bio Maths Apr 2018 – May 2019\\nCERTIFICATIONS\\n• Python Full Stack Developer Certiﬁcation - Pumo Technovation, Chennai\\n• TCS iON NQT IT Certiﬁcation - Achieved a score of 62.87%')]"
      ]
     },
     "execution_count": 35,
     "metadata": {},
     "output_type": "execute_result"
    }
   ],
   "source": [
    "document=chunk_data(docs=doc)\n",
    "document"
   ]
  },
  {
   "cell_type": "code",
   "execution_count": 36,
   "metadata": {},
   "outputs": [
    {
     "data": {
      "text/plain": [
       "OpenAIEmbeddings(client=<openai.resources.embeddings.Embeddings object at 0x00000235161E1480>, async_client=<openai.resources.embeddings.AsyncEmbeddings object at 0x00000235161F22F0>, model='text-embedding-ada-002', deployment='text-embedding-ada-002', openai_api_version='', openai_api_base=None, openai_api_type='', openai_proxy='', embedding_ctx_length=8191, openai_api_key='sk-15YLdtpG_cLJdKEeYvdyfVHmc5ukBDCKauPt7drdAET3BlbkFJNMuuyNs2Cx_HiG5oh3hveNUBYOWPZ9ONnnvTKrP54A', openai_organization=None, allowed_special=set(), disallowed_special='all', chunk_size=1000, max_retries=2, request_timeout=None, headers=None, tiktoken_enabled=True, tiktoken_model_name=None, show_progress_bar=False, model_kwargs={}, skip_empty=False, default_headers=None, default_query=None, retry_min_seconds=4, retry_max_seconds=20, http_client=None)"
      ]
     },
     "execution_count": 36,
     "metadata": {},
     "output_type": "execute_result"
    }
   ],
   "source": [
    "## embedding techniques of OPENAI\n",
    "embeddings=OpenAIEmbeddings(api_key=openai_api_key)\n",
    "embeddings"
   ]
  },
  {
   "cell_type": "code",
   "execution_count": 37,
   "metadata": {},
   "outputs": [
    {
     "data": {
      "text/plain": [
       "1536"
      ]
     },
     "execution_count": 37,
     "metadata": {},
     "output_type": "execute_result"
    }
   ],
   "source": [
    "vectors=embeddings.embed_query(\"how are you\")\n",
    "len(vectors)"
   ]
  },
  {
   "cell_type": "code",
   "execution_count": 38,
   "metadata": {},
   "outputs": [],
   "source": [
    "from pinecone import Pinecone\n",
    "from langchain_pinecone import PineconeVectorStore\n",
    "pc=Pinecone(api_key=pinecone_api_key)\n",
    "index=pc.Index(\"vectorlangchain\")\n",
    "vector_store = PineconeVectorStore.from_documents(\n",
    "    documents=document,\n",
    "    embedding=embeddings,\n",
    "    index_name=\"vectorlangchain\"\n",
    ")"
   ]
  },
  {
   "cell_type": "code",
   "execution_count": 39,
   "metadata": {},
   "outputs": [
    {
     "name": "stdout",
     "output_type": "stream",
     "text": [
      "Document 1:\n",
      " efﬁciency by 40%.\n",
      "• Contributed to developing and debugging internal tools, improving operational efﬁciency by 15%.\n",
      "• Developing full-stack solutions utilizing Python and SQL, leading to a35% boostin coding efﬁciency and a20% reductionin\n",
      "database query times.\n",
      "EDUCATION\n",
      "Rajiv Gandhi College of Engineering Chennai\n",
      "B.Tech in Petroleum Engineering Aug 2019 – May 2023\n",
      "Vaani Matric Higher Secondary School Vaniyambadi\n",
      "HSE- Bio Maths Apr 2018 – May 2019\n",
      "CERTIFICATIONS\n",
      "• Python Full Stack Developer Certiﬁcation - Pumo Technovation, Chennai\n",
      "• TCS iON NQT IT Certiﬁcation - Achieved a score of 62.87%\n",
      "\n",
      "Source: documents\\AJAI.pdf\n",
      "\n",
      "Document 2:\n",
      " AJAI V\n",
      "9150160723 | ajaipetro@gmail.com | linkedin.com/in/v-ajai-838345194 | https://github.com/VAJAI\n",
      "TECHNICAL SKILLS\n",
      "Programming Languages : Python, C++, C, Basic JAVA\n",
      "Frameworks - Libraries: Django, React.js, Node.js\n",
      "Front-End Development : HTML, CSS, Bootstrap, JavaScript, jQuery\n",
      "Back-End Development : MySQL, Microsoft SQL Server\n",
      "Development Tools:Git, Visual Studio Code, Code Blocks\n",
      "PROJECTS\n",
      "Ecommerce Website - Pic Snacks DEC 2023 – APR 2024\n",
      "Role: Full Stack Developer HTML, CSS, JavaScript\n",
      "• Engineered a fully responsive e-commerce platform for snack products, achieving a 20% boost in mobile engagement and a 15%\n",
      "increase in overall site trafﬁc. .\n",
      "• Designed a user-friendly interface that enhanced customer engagement by25% and decreased bounce rates by30%\n",
      "\n",
      "Source: documents\\AJAI.pdf\n",
      "\n",
      "Document 3:\n",
      " • Optimized site navigation for multi-device compatibility, increasing user retention by20%.\n",
      "Portfolio Website APR 2024 – AUG 2024\n",
      "Role: Web Designer and Developer HTML, CSS, JavaScript\n",
      "• Built a professional portfolio website to showcase technical skills and projects, leading to positive feedback from recruiters and a\n",
      "50% increase in LinkedIn proﬁle views.\n",
      "• Reduced page load times by30% through performance optimization techniques.\n",
      "• Designed a responsive layout compatible with 10+ browsers, resulting in a25% increasein mobile engagement.\n",
      "EXPERIENCE\n",
      "Software Developer - Training Program AUG 2024 – Present\n",
      "NAGHAVI Financial Services Pvt Ltd Bangaluru\n",
      "• Currently enrolled in a 6-month software development and ﬁntech training program, enhancing skills with key tools and increasing\n",
      "\n",
      "Source: documents\\AJAI.pdf\n",
      "\n"
     ]
    }
   ],
   "source": [
    "\n",
    "query = \"What the data about technical skills in this document?\"\n",
    "retriever = vector_store.as_retriever(\n",
    "        search_type=\"similarity_score_threshold\",\n",
    "        search_kwargs={\"k\":3,'score_threshold': 0.8}\n",
    "    )\n",
    "\n",
    "relevent_doc=retriever.invoke(query)\n",
    "\n",
    "for i,doc in enumerate(relevent_doc,1):\n",
    "    print(f\"Document {i}:\\n {doc.page_content}\\n\")\n",
    "    print(f\"Source: {doc.metadata['source']}\\n\")\n"
   ]
  },
  {
   "cell_type": "code",
   "execution_count": 40,
   "metadata": {},
   "outputs": [
    {
     "name": "stdout",
     "output_type": "stream",
     "text": [
      "Index Stats: {'dimension': 1536,\n",
      " 'index_fullness': 0.0,\n",
      " 'namespaces': {'': {'vector_count': 3}},\n",
      " 'total_vector_count': 3}\n"
     ]
    }
   ],
   "source": [
    "stats = index.describe_index_stats()\n",
    "print(\"Index Stats:\", stats)\n"
   ]
  }
 ],
 "metadata": {
  "kernelspec": {
   "display_name": ".venv",
   "language": "python",
   "name": "python3"
  },
  "language_info": {
   "codemirror_mode": {
    "name": "ipython",
    "version": 3
   },
   "file_extension": ".py",
   "mimetype": "text/x-python",
   "name": "python",
   "nbconvert_exporter": "python",
   "pygments_lexer": "ipython3",
   "version": "3.10.11"
  }
 },
 "nbformat": 4,
 "nbformat_minor": 2
}
